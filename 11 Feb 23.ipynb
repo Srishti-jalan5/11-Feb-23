{
 "cells": [
  {
   "cell_type": "code",
   "execution_count": null,
   "id": "688ef1b7-1787-41ab-9cc0-5c294c576a49",
   "metadata": {},
   "outputs": [],
   "source": [
    "#Q1\n",
    "Exception is an unexpected error which can occur in a parts of a code.\n",
    "Syntax error is issue which prevents the compilation of a program while \n",
    "exception is a condition tha interupts normal flow of the program."
   ]
  },
  {
   "cell_type": "code",
   "execution_count": 2,
   "id": "a047c30a-dc3c-494a-9751-eb69eadf1cb8",
   "metadata": {},
   "outputs": [
    {
     "ename": "ZeroDivisionError",
     "evalue": "division by zero",
     "output_type": "error",
     "traceback": [
      "\u001b[0;31m---------------------------------------------------------------------------\u001b[0m",
      "\u001b[0;31mZeroDivisionError\u001b[0m                         Traceback (most recent call last)",
      "Cell \u001b[0;32mIn[2], line 7\u001b[0m\n\u001b[1;32m      5\u001b[0m b\u001b[38;5;241m=\u001b[39m\u001b[38;5;241m0\u001b[39m\n\u001b[1;32m      6\u001b[0m \u001b[38;5;66;03m#try:\u001b[39;00m\n\u001b[0;32m----> 7\u001b[0m c\u001b[38;5;241m=\u001b[39m\u001b[43ma\u001b[49m\u001b[38;5;241;43m/\u001b[39;49m\u001b[43mb\u001b[49m\n\u001b[1;32m      8\u001b[0m \u001b[38;5;28mprint\u001b[39m(c)\n\u001b[1;32m      9\u001b[0m \u001b[38;5;66;03m#except:\u001b[39;00m\n",
      "\u001b[0;31mZeroDivisionError\u001b[0m: division by zero"
     ]
    }
   ],
   "source": [
    "#Q2\n",
    "#If exception is not handled then its prevents the further excution of a program.\n",
    "example--\n",
    "\n",
    "a=10\n",
    "b=0\n",
    "#try:\n",
    "c=a/b\n",
    "print(c)\n",
    "#except:\n",
    "print(\"dinominator cannot be zero\")"
   ]
  },
  {
   "cell_type": "code",
   "execution_count": 3,
   "id": "c5cfe3ad-64eb-4dac-bf56-db06bf3d6c5b",
   "metadata": {},
   "outputs": [
    {
     "name": "stdout",
     "output_type": "stream",
     "text": [
      "dinominator cannot be zero\n"
     ]
    }
   ],
   "source": [
    "a=10\n",
    "b=0\n",
    "try:\n",
    "    c=a/b\n",
    "    print(c)\n",
    "except:\n",
    "    print(\"dinominator cannot be zero\")"
   ]
  },
  {
   "cell_type": "code",
   "execution_count": 6,
   "id": "9a6ec24d-c941-48fc-91f9-508349e0f738",
   "metadata": {},
   "outputs": [
    {
     "name": "stdout",
     "output_type": "stream",
     "text": [
      "Error: can't find file or read data\n"
     ]
    }
   ],
   "source": [
    "#Q3\n",
    "#try and except statements are used in python \n",
    "\n",
    "try:  #catches the exception\n",
    "   f = open(\"testfile\", \"r\")\n",
    "   fh.write(\"This is my test file for exception handling!!\")\n",
    "except Exception as e:  #handles the exception\n",
    "   print(\"Error: can\\'t find file or read data\")\n"
   ]
  },
  {
   "cell_type": "code",
   "execution_count": 8,
   "id": "2477a224-a394-49ae-98d4-1cf0fa40ed99",
   "metadata": {},
   "outputs": [
    {
     "name": "stdout",
     "output_type": "stream",
     "text": [
      "data entered successfullly\n"
     ]
    }
   ],
   "source": [
    "#Q4\n",
    "#a.try and else(else block executed if there is no exception in try block.)\n",
    "\n",
    "try:  #catches the exception\n",
    "   f = open(\"11feb23\", \"w\")\n",
    "   f.write(\"This is my test file for exception handling!!\")\n",
    "except Exception as e:  #handles the exception\n",
    "   print(\"Error: can\\'t find file or read data\")\n",
    "else:\n",
    "    print(\"data entered successfullly\")"
   ]
  },
  {
   "cell_type": "code",
   "execution_count": 1,
   "id": "6f8a2255-4658-48a4-ac34-3185487cc67b",
   "metadata": {},
   "outputs": [
    {
     "name": "stdout",
     "output_type": "stream",
     "text": [
      "dinominator cannot be zero\n",
      "Executed successfully\n"
     ]
    }
   ],
   "source": [
    "#b.finally block get executed after try and except block and do not depend on whether their is exception ot not.\n",
    "a=10\n",
    "b=0\n",
    "try:\n",
    "    c=a/b\n",
    "    print(c)\n",
    "except:\n",
    "    print(\"dinominator cannot be zero\")\n",
    "finally:\n",
    "    print(\"Executed successfully\")"
   ]
  },
  {
   "cell_type": "code",
   "execution_count": 2,
   "id": "a915e6d4-68da-4311-9f9b-afb062ae8d23",
   "metadata": {},
   "outputs": [
    {
     "name": "stdout",
     "output_type": "stream",
     "text": [
      "10.0\n",
      "Executed successfully\n"
     ]
    }
   ],
   "source": [
    "a=10\n",
    "b=1\n",
    "try:\n",
    "    c=a/b\n",
    "    print(c)\n",
    "except:\n",
    "    print(\"dinominator cannot be zero\")\n",
    "finally:\n",
    "    print(\"Executed successfully\")"
   ]
  },
  {
   "cell_type": "code",
   "execution_count": 14,
   "id": "6b157976-615f-4030-a6e2-bdcc6ddda86e",
   "metadata": {},
   "outputs": [],
   "source": [
    "#c.raise - when we want to creat our own exception.\n",
    "class dice(Exception):\n",
    "    def __init__(self,msg):\n",
    "        self.msg = msg"
   ]
  },
  {
   "cell_type": "code",
   "execution_count": 15,
   "id": "022fe73f-f47b-4ccc-9eff-4f350154159d",
   "metadata": {},
   "outputs": [],
   "source": [
    "def dice(result):\n",
    "        if result < 0:\n",
    "            print(\"Dice result cannot be zero\")\n",
    "        elif result > 6:\n",
    "            print(\"Dice result cannot be greater than 6\")\n",
    "        else:\n",
    "            print(\"dice number is\",result)"
   ]
  },
  {
   "cell_type": "code",
   "execution_count": 16,
   "id": "6839e9b5-54e3-454d-92ee-3bef87301314",
   "metadata": {},
   "outputs": [
    {
     "name": "stdin",
     "output_type": "stream",
     "text": [
      "Enter your dice result 4\n"
     ]
    },
    {
     "name": "stdout",
     "output_type": "stream",
     "text": [
      "dice number is 4\n"
     ]
    }
   ],
   "source": [
    "try:\n",
    "    result=int(input(\"Enter your dice result\"))\n",
    "    dice(result)\n",
    "except dice as e:\n",
    "    print(e)\n",
    "               "
   ]
  },
  {
   "cell_type": "code",
   "execution_count": 1,
   "id": "e269c142-c602-4282-a56e-4b1683892417",
   "metadata": {},
   "outputs": [
    {
     "ename": "SyntaxError",
     "evalue": "invalid syntax (4164730718.py, line 2)",
     "output_type": "error",
     "traceback": [
      "\u001b[0;36m  Cell \u001b[0;32mIn[1], line 2\u001b[0;36m\u001b[0m\n\u001b[0;31m    In Python, we can define custom exceptions by creating a new\u001b[0m\n\u001b[0m       ^\u001b[0m\n\u001b[0;31mSyntaxError\u001b[0m\u001b[0;31m:\u001b[0m invalid syntax\n"
     ]
    }
   ],
   "source": [
    "#Q5\n",
    "In Python, we can define custom exceptions by creating a new \n",
    "class that is derived from the built-in Exception class.\n",
    "we need ecustom exception to raise exceptions at our own conditions.\n",
    "\n",
    "class dice(Exception):\n",
    "    def __init__(self,msg):\n",
    "        self.msg = msg\n",
    "        \n",
    "def dice(result):\n",
    "        if result < 0:\n",
    "            print(\"Dice result cannot be zero\")\n",
    "        elif result > 6:\n",
    "            print(\"Dice result cannot be greater than 6\")\n",
    "        else:\n",
    "            print(\"dice number is\",result)\n",
    "\n",
    "try:\n",
    "    result=int(input(\"Enter your dice result\"))\n",
    "    dice(result)\n",
    "except dice as e:\n",
    "    print(e)\n",
    "              "
   ]
  },
  {
   "cell_type": "code",
   "execution_count": 2,
   "id": "c46bed7a-d684-481a-b865-aa368839b997",
   "metadata": {},
   "outputs": [],
   "source": [
    "#Q6\n",
    "class Day_date(Exception):\n",
    "    def __init__(self,msg):\n",
    "        self.msg = msg"
   ]
  },
  {
   "cell_type": "code",
   "execution_count": null,
   "id": "74d4dde0-cdf8-449b-a031-e7d5be3bc58e",
   "metadata": {},
   "outputs": [],
   "source": [
    "        \n",
    "def Day_date(date):\n",
    "        if date < 1:\n",
    "            print(\"Date result cannot be zero\")\n",
    "        elif date > 31:\n",
    "            print(\"date cannot be greater than 31\")\n",
    "        else:\n",
    "            print(\"dice number is\",date)\n",
    "\n",
    "try:\n",
    "    date=int(input(\"Enter your date\"))\n",
    "    Day_date(date)\n",
    "except Day_date as e:\n",
    "    print(e)"
   ]
  },
  {
   "cell_type": "code",
   "execution_count": null,
   "id": "4e1a95cc-2b39-472e-8328-f7fb9ee81176",
   "metadata": {},
   "outputs": [],
   "source": []
  }
 ],
 "metadata": {
  "kernelspec": {
   "display_name": "Python 3 (ipykernel)",
   "language": "python",
   "name": "python3"
  },
  "language_info": {
   "codemirror_mode": {
    "name": "ipython",
    "version": 3
   },
   "file_extension": ".py",
   "mimetype": "text/x-python",
   "name": "python",
   "nbconvert_exporter": "python",
   "pygments_lexer": "ipython3",
   "version": "3.10.8"
  }
 },
 "nbformat": 4,
 "nbformat_minor": 5
}
